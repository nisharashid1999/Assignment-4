{
 "cells": [
  {
   "cell_type": "code",
   "execution_count": null,
   "id": "877c0493",
   "metadata": {},
   "outputs": [
    {
     "name": "stdout",
     "output_type": "stream",
     "text": [
      "Select operation.\n",
      "1.Add\n",
      "2.Subtract\n",
      "3.Multiply\n",
      "4.Divide\n",
      "5.Power\n",
      "Enter choice(1/2/3/4/5): 5\n",
      "Enter first number: 5\n",
      "Enter second number: 4\n",
      "5.0 ** 4.0 = 625.0\n",
      "Let's do next calculation? (yes/no): yes\n",
      "Enter choice(1/2/3/4/5): 4\n",
      "Enter first number: 2\n",
      "Enter second number: 1\n",
      "2.0 / 1.0 = 2.0\n"
     ]
    }
   ],
   "source": [
    "#1. Make a calculator using Python with addition, subtraction, multiplication, division and power.\n",
    "\n",
    "def add(x, y):\n",
    "    return x + y\n",
    "\n",
    "def subtract(x, y):\n",
    "    return x - y\n",
    "\n",
    "def multiply(x, y):\n",
    "    return x * y\n",
    "\n",
    "def divide(x, y):\n",
    "    return x / y\n",
    "\n",
    "def power(x, y):\n",
    "    return x ** y\n",
    "\n",
    "\n",
    "print(\"Select operation.\")\n",
    "print(\"1.Add\")\n",
    "print(\"2.Subtract\")\n",
    "print(\"3.Multiply\")\n",
    "print(\"4.Divide\")\n",
    "print(\"5.Power\")\n",
    "\n",
    "\n",
    "while True:\n",
    "    choice = input(\"Enter choice(1/2/3/4/5): \")\n",
    "\n",
    "    if choice in ('1', '2', '3', '4','5'):\n",
    "        num1 = float(input(\"Enter first number: \"))\n",
    "        num2 = float(input(\"Enter second number: \"))\n",
    "\n",
    "        if choice == '1':\n",
    "            print(num1, \"+\", num2, \"=\", add(num1, num2))\n",
    "\n",
    "        elif choice == '2':\n",
    "            print(num1, \"-\", num2, \"=\", subtract(num1, num2))\n",
    "\n",
    "        elif choice == '3':\n",
    "            print(num1, \"*\", num2, \"=\", multiply(num1, num2))\n",
    "\n",
    "        elif choice == '4':\n",
    "            print(num1, \"/\", num2, \"=\", divide(num1, num2))\n",
    "        \n",
    "        elif choice == '5':\n",
    "            print(num1, \"**\", num2, \"=\", power(num1, num2))\n",
    "        \n",
    "        next_calculation = input(\"Let's do next calculation? (yes/no): \")\n",
    "        if next_calculation == \"no\":\n",
    "          break\n",
    "    \n",
    "    else:\n",
    "        print(\"Invalid Input\")"
   ]
  },
  {
   "cell_type": "code",
   "execution_count": 4,
   "id": "be980f35",
   "metadata": {},
   "outputs": [
    {
     "name": "stdout",
     "output_type": "stream",
     "text": [
      "4 Is Numeric\n",
      "5 Is Numeric\n",
      "6 Is Numeric\n",
      "7 Is Numeric\n",
      "8 Is Numeric\n",
      "9 Is Numeric\n"
     ]
    }
   ],
   "source": [
    "#2. Write a program to check if there is any numeric value in list using for loop.\n",
    "\n",
    "list=[\"abc\",\"def\",4,\"ghi\",5,6,7,\"jkl\",8,9,\"mno\"]\n",
    "for x in list:\n",
    "    if type(x)==int:\n",
    "        print(\"{} Is Numeric\".format(x))"
   ]
  },
  {
   "cell_type": "code",
   "execution_count": 1,
   "id": "8a00976b",
   "metadata": {},
   "outputs": [
    {
     "name": "stdout",
     "output_type": "stream",
     "text": [
      "{80: 90, 100: 200}\n",
      "{80: 90, 100: 200, 300: 400}\n"
     ]
    }
   ],
   "source": [
    "#3. Write a python script to add a key to a dictionary.\n",
    "\n",
    "a = {80 : 90 , 100 : 200}\n",
    "print (a)\n",
    "a.update({300 : 400})\n",
    "print(a)"
   ]
  },
  {
   "cell_type": "code",
   "execution_count": 2,
   "id": "4bb2360c",
   "metadata": {},
   "outputs": [
    {
     "name": "stdout",
     "output_type": "stream",
     "text": [
      "1056\n"
     ]
    }
   ],
   "source": [
    "#4. Write a Python program to sum all the numeric items in a dictionary.\n",
    "\n",
    "my_numeric = {'data 1' : 1000 , 'data 2' : -154 , 'data 3' : 240 , 'data 4' : -30}\n",
    "print(sum(my_numeric.values()))"
   ]
  },
  {
   "cell_type": "code",
   "execution_count": 3,
   "id": "3a513ce4",
   "metadata": {},
   "outputs": [
    {
     "name": "stdout",
     "output_type": "stream",
     "text": [
      "Duplicate elements in given array: \n",
      "2\n",
      "3\n",
      "8\n"
     ]
    }
   ],
   "source": [
    "#5. Write a program to identify duplicate values from list.\n",
    "\n",
    "arr = [1, 2, 3, 4, 2, 7, 8, 8, 3];  \n",
    "print(\"Duplicate elements in given array: \");   \n",
    "for i in range(0, len(arr)):    \n",
    "    for j in range(i+1, len(arr)):    \n",
    "        if(arr[i] == arr[j]):    \n",
    "            print(arr[j]);    "
   ]
  },
  {
   "cell_type": "code",
   "execution_count": 4,
   "id": "9f10e091",
   "metadata": {},
   "outputs": [
    {
     "name": "stdout",
     "output_type": "stream",
     "text": [
      "Key is present in the dictionary\n",
      "Key is not present in the dictionary\n"
     ]
    }
   ],
   "source": [
    "#6. Write a Python script to check if a given key already exists in a dictionary.\n",
    "\n",
    "d = {10: 100, 20: 200, 30: 300, 40: 400, 50: 500, 60: 600}\n",
    "def is_key_present(x):\n",
    "    if x in d:\n",
    "        print('Key is present in the dictionary')\n",
    "    else:\n",
    "        print('Key is not present in the dictionary')\n",
    "is_key_present(50)\n",
    "is_key_present(99)"
   ]
  },
  {
   "cell_type": "code",
   "execution_count": null,
   "id": "e3076f46",
   "metadata": {},
   "outputs": [],
   "source": []
  },
  {
   "cell_type": "code",
   "execution_count": null,
   "id": "9f54021d",
   "metadata": {},
   "outputs": [],
   "source": []
  },
  {
   "cell_type": "code",
   "execution_count": null,
   "id": "0bc745e0",
   "metadata": {},
   "outputs": [],
   "source": []
  },
  {
   "cell_type": "code",
   "execution_count": null,
   "id": "693dec9d",
   "metadata": {},
   "outputs": [],
   "source": []
  },
  {
   "cell_type": "code",
   "execution_count": null,
   "id": "6aed7a29",
   "metadata": {},
   "outputs": [],
   "source": []
  },
  {
   "cell_type": "code",
   "execution_count": null,
   "id": "0dc7e8d7",
   "metadata": {},
   "outputs": [],
   "source": []
  },
  {
   "cell_type": "code",
   "execution_count": null,
   "id": "97460766",
   "metadata": {},
   "outputs": [],
   "source": []
  },
  {
   "cell_type": "code",
   "execution_count": null,
   "id": "656b9359",
   "metadata": {},
   "outputs": [],
   "source": []
  }
 ],
 "metadata": {
  "kernelspec": {
   "display_name": "Python 3",
   "language": "python",
   "name": "python3"
  },
  "language_info": {
   "codemirror_mode": {
    "name": "ipython",
    "version": 3
   },
   "file_extension": ".py",
   "mimetype": "text/x-python",
   "name": "python",
   "nbconvert_exporter": "python",
   "pygments_lexer": "ipython3",
   "version": "3.8.8"
  }
 },
 "nbformat": 4,
 "nbformat_minor": 5
}
